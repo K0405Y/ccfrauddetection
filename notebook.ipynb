{
 "cells": [
  {
   "cell_type": "code",
   "execution_count": 0,
   "metadata": {
    "application/vnd.databricks.v1+cell": {
     "cellMetadata": {
      "byteLimit": 2048000,
      "rowLimit": 10000
     },
     "inputWidgets": {},
     "nuid": "4acbf46c-e209-4aef-ba89-cb4e7dbbfe4d",
     "showTitle": false,
     "tableResultSettingsMap": {},
     "title": ""
    }
   },
   "outputs": [],
   "source": [
    "import pandas as pd\n",
    "import numpy as np\n",
    "from datetime import datetime, timedelta\n",
    "import mlflow\n",
    "import json\n",
    "\n",
    "def generate_transaction_data(n_samples=40):\n",
    "    np.random.seed(42)\n",
    "    start_date = datetime(2024, 12, 12)\n",
    "    \n",
    "    data = []\n",
    "    \n",
    "    for i in range(n_samples):\n",
    "        tx_datetime = start_date + timedelta(\n",
    "            days=np.random.randint(0, 30),\n",
    "            hours=np.random.randint(0, 24),\n",
    "            minutes=np.random.randint(0, 60),\n",
    "            seconds=np.random.randint(0, 60)\n",
    "        )\n",
    "        \n",
    "        time_seconds = tx_datetime.hour *  3600 + tx_datetime.minute * 60 + tx_datetime.second\n",
    "        time_days = tx_datetime.day\n",
    "        \n",
    "        record = {\n",
    "            \"TRANSACTION_ID\": int(i + 1000),\n",
    "            \"TX_DATETIME\": tx_datetime.strftime(\"%Y-%m-%d %H:%M:%S\"),\n",
    "            \"CUSTOMER_ID\": int(np.random.randint(500, 700)),\n",
    "            \"TERMINAL_ID\": int(np.random.randint(100, 200)),\n",
    "            \"TX_AMOUNT\": float(round(np.random.uniform(10, 1000), 2)),\n",
    "            \"TX_TIME_SECONDS\": int(time_seconds),\n",
    "            \"TX_TIME_DAYS\": int(time_days)\n",
    "        }\n",
    "        data.append(record)\n",
    "    \n",
    "    return pd.DataFrame(data)\n",
    "\n",
    "# Generate simulated transactions\n",
    "simulated_data = generate_transaction_data(40)\n",
    "\n",
    "# Load model\n",
    "logged_model = 'runs:/4ce29c8a57f945639a4e5fb57ec1a32a/fraud_detection_inference'\n",
    "loaded_model = mlflow.pyfunc.load_model(logged_model)"
   ]
  },
  {
   "cell_type": "code",
   "execution_count": 0,
   "metadata": {
    "application/vnd.databricks.v1+cell": {
     "cellMetadata": {
      "byteLimit": 2048000,
      "rowLimit": 10000
     },
     "inputWidgets": {},
     "nuid": "76e0ba61-6f56-46a8-a819-8590f1e964b0",
     "showTitle": false,
     "tableResultSettingsMap": {},
     "title": ""
    }
   },
   "outputs": [],
   "source": [
    "simulated_data.head()"
   ]
  },
  {
   "cell_type": "code",
   "execution_count": 0,
   "metadata": {
    "application/vnd.databricks.v1+cell": {
     "cellMetadata": {
      "byteLimit": 2048000,
      "rowLimit": 10000
     },
     "inputWidgets": {},
     "nuid": "f8a60cdc-10f1-4bf8-a276-da786a015428",
     "showTitle": false,
     "tableResultSettingsMap": {},
     "title": ""
    }
   },
   "outputs": [],
   "source": [
    "loaded_model.predict(simulated_data.iloc[[15]])"
   ]
  },
  {
   "cell_type": "code",
   "execution_count": 0,
   "metadata": {
    "application/vnd.databricks.v1+cell": {
     "cellMetadata": {
      "byteLimit": 2048000,
      "rowLimit": 10000
     },
     "inputWidgets": {},
     "nuid": "f542234c-d5fc-4752-b959-27a213260beb",
     "showTitle": false,
     "tableResultSettingsMap": {},
     "title": ""
    }
   },
   "outputs": [],
   "source": [
    "from mlflow.models import validate_serving_input\n",
    "\n",
    "model_uri = 'runs:/b969b933617f46f9bd131fbe86d9b181/fraud_detection_inference'\n",
    "\n",
    "# The model is logged with an input example. MLflow converts\n",
    "# it into the serving payload format for the deployed model endpoint,\n",
    "# and saves it to 'serving_input_payload.json'\n",
    "serving_payload = \"\"\"{\n",
    "  \"inputs\": {\n",
    "    \"TRANSACTION_ID\": 4781,\n",
    "    \"TX_DATETIME\": \"2024-10-29 12:57:40\",\n",
    "    \"CUSTOMER_ID\": 456,\n",
    "    \"TERMINAL_ID\": 139,\n",
    "    \"TX_AMOUNT\": 20.25,\n",
    "    \"TX_TIME_SECONDS\": 46660,\n",
    "    \"TX_TIME_DAYS\": 29\n",
    "  }\n",
    "}\"\"\"\n",
    "\n",
    "# Validate the serving payload works on the model\n",
    "validate_serving_input(model_uri, serving_payload)"
   ]
  }
 ],
 "metadata": {
  "application/vnd.databricks.v1+notebook": {
   "dashboards": [],
   "environmentMetadata": null,
   "language": "python",
   "notebookMetadata": {
    "pythonIndentUnit": 2
   },
   "notebookName": "notebook",
   "widgets": {}
  },
  "kernelspec": {
   "display_name": ".venv",
   "language": "python",
   "name": "python3"
  },
  "language_info": {
   "codemirror_mode": {
    "name": "ipython",
    "version": 3
   },
   "file_extension": ".py",
   "mimetype": "text/x-python",
   "name": "python",
   "nbconvert_exporter": "python",
   "pygments_lexer": "ipython3",
   "version": "3.11.1"
  }
 },
 "nbformat": 4,
 "nbformat_minor": 0
}
